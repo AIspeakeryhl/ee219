# PROJECT 1 #
# this is the file for project 1 codes so we can work collaboratively

import numpy as np
